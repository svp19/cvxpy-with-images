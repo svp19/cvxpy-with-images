{
  "nbformat": 4,
  "nbformat_minor": 0,
  "metadata": {
    "colab": {
      "name": "MDS_PA2_cvxpy",
      "provenance": [],
      "collapsed_sections": []
    },
    "kernelspec": {
      "display_name": "Python 3",
      "name": "python3"
    }
  },
  "cells": [
    {
      "cell_type": "code",
      "metadata": {
        "colab": {
          "base_uri": "https://localhost:8080/"
        },
        "id": "M40SDKEgySye",
        "outputId": "a839f33d-baa1-4271-c342-346724cb54bc"
      },
      "source": [
        "from google.colab import drive\n",
        "drive.mount('/content/drive')"
      ],
      "execution_count": 7,
      "outputs": [
        {
          "output_type": "stream",
          "text": [
            "Mounted at /content/drive\n"
          ],
          "name": "stdout"
        }
      ]
    },
    {
      "cell_type": "code",
      "metadata": {
        "id": "ofn8Bd23yiOt"
      },
      "source": [
        "!cp -r /content/drive/MyDrive/IITDH/mds/pa2 ./"
      ],
      "execution_count": 9,
      "outputs": []
    },
    {
      "cell_type": "code",
      "metadata": {
        "colab": {
          "base_uri": "https://localhost:8080/"
        },
        "id": "blFaz015yxWD",
        "outputId": "e07f12e3-938d-435f-f0c8-af4e3771d210"
      },
      "source": [
        "%cd /content/pa2\n",
        "!ls"
      ],
      "execution_count": 10,
      "outputs": [
        {
          "output_type": "stream",
          "text": [
            "/content/pa2\n",
            "A_inv.npy  create_data_for_assignment.py       incomplete.png  y.npy\n",
            "C.npy\t   CS427_Programming_Assignment_2.pdf  problem3.ipynb\n"
          ],
          "name": "stdout"
        }
      ]
    },
    {
      "cell_type": "code",
      "metadata": {
        "id": "hKpHTU8RyzAV"
      },
      "source": [
        "import os\n",
        "import numpy as np\n",
        "import numpy.linalg as LA"
      ],
      "execution_count": 11,
      "outputs": []
    },
    {
      "cell_type": "code",
      "metadata": {
        "colab": {
          "base_uri": "https://localhost:8080/"
        },
        "id": "8QWfefB0y1tv",
        "outputId": "5a040574-c4a4-4e7d-a05b-62c115ef70f7"
      },
      "source": [
        "y = np.load('y.npy').reshape(-1)\n",
        "C = np.load('C.npy')\n",
        "A_inv = np.load('A_inv.npy')\n",
        "A_inv.shape, C.shape, y.shape"
      ],
      "execution_count": 12,
      "outputs": [
        {
          "output_type": "execute_result",
          "data": {
            "text/plain": [
              "((10000, 10000), (3000, 10000), (3000,))"
            ]
          },
          "metadata": {
            "tags": []
          },
          "execution_count": 12
        }
      ]
    },
    {
      "cell_type": "code",
      "metadata": {
        "id": "xJUTN2vmy3NA"
      },
      "source": [
        "def objective_func(s):\n",
        "    return LA.norm(s, ord=1)\n",
        "\n",
        "def constraint_func(s):\n",
        "    a = (y - np.matmul(C, s)).T\n",
        "    return np.inner(a, a)[0, 0]"
      ],
      "execution_count": 13,
      "outputs": []
    },
    {
      "cell_type": "code",
      "metadata": {
        "colab": {
          "base_uri": "https://localhost:8080/"
        },
        "id": "ZEGUDdHPy4-_",
        "outputId": "8fa99f05-bc98-44a2-b09b-c31e62bdd256"
      },
      "source": [
        "import cvxpy as cp\n",
        "import numpy as np\n",
        "\n",
        "# Problem data.\n",
        "\n",
        "# Construct the problem.\n",
        "x = cp.Variable(shape=10000)\n",
        "objective = cp.Minimize(cp.norm(x, 1))\n",
        "# constraints = [cp.norm(y - C*x, 2)]\n",
        "constraints = [C*x - y == 0]\n",
        "prob = cp.Problem(objective, constraints)\n",
        "\n",
        "# The optimal objective value is returned by `prob.solve()`.\n",
        "result = prob.solve(verbose=True, solver=cp.OSQP)\n",
        "# The optimal value for x is stored in `x.value`.\n",
        "print(x.value)\n",
        "# The optimal Lagrange multiplier for a constraint is stored in\n",
        "# `constraint.dual_value`.\n",
        "print(constraints[0].dual_value)"
      ],
      "execution_count": 14,
      "outputs": [
        {
          "output_type": "stream",
          "text": [
            "-----------------------------------------------------------------\n",
            "           OSQP v0.6.0  -  Operator Splitting QP Solver\n",
            "              (c) Bartolomeo Stellato,  Goran Banjac\n",
            "        University of Oxford  -  Stanford University 2019\n",
            "-----------------------------------------------------------------\n",
            "problem:  variables n = 20000, constraints m = 23000\n",
            "          nnz(P) + nnz(A) = 29586496\n",
            "settings: linear system solver = qdldl,\n",
            "          eps_abs = 1.0e-05, eps_rel = 1.0e-05,\n",
            "          eps_prim_inf = 1.0e-04, eps_dual_inf = 1.0e-04,\n",
            "          rho = 1.00e-01 (adaptive),\n",
            "          sigma = 1.00e-06, alpha = 1.60, max_iter = 10000\n",
            "          check_termination: on (interval 25),\n",
            "          scaling: on, scaled_termination: off\n",
            "          warm start: on, polish: on, time_limit: off\n",
            "\n",
            "iter   objective    pri res    dua res    rho        time\n",
            "   1  -8.0000e+04   2.33e+02   1.23e+09   1.00e-01   1.05e+02s\n",
            " 200   9.2853e+04   9.28e-01   3.38e-01   1.00e-01   1.31e+02s\n",
            " 400   9.2259e+04   9.71e-02   1.27e-02   1.00e-01   1.58e+02s\n",
            " 600   9.2244e+04   3.75e-02   5.75e-03   1.00e-01   1.84e+02s\n",
            " 800   9.2239e+04   5.40e-01   7.81e-04   1.41e-03   3.06e+02s\n",
            "1000   9.2235e+04   1.08e+00   1.36e-04   1.49e-04   4.27e+02s\n",
            "1200   9.2237e+04   1.99e-01   4.63e-05   1.49e-04   4.54e+02s\n",
            "1400   9.2240e+04   9.18e-02   2.97e-05   1.49e-04   4.80e+02s\n",
            "1600   9.2239e+04   6.00e-02   1.94e-05   1.49e-04   5.07e+02s\n",
            "\n",
            "status:               solved\n",
            "solution polish:      unsuccessful\n",
            "number of iterations: 1600\n",
            "optimal objective:    92239.3047\n",
            "run time:             5.87e+02s\n",
            "optimal rho estimate: 4.57e-05\n",
            "\n",
            "[ 1.64262354e+04  2.95684938e+03  2.63608739e+03 ... -5.58638472e-03\n",
            "  1.16041346e+01  2.59777088e+01]\n",
            "[-1.26894338 -0.22314327  6.41594034 ...  1.41151971  1.61572872\n",
            " -0.36968696]\n"
          ],
          "name": "stdout"
        }
      ]
    },
    {
      "cell_type": "code",
      "metadata": {
        "colab": {
          "base_uri": "https://localhost:8080/"
        },
        "id": "s_u4737ASqQh",
        "outputId": "2e79e441-9697-4896-ae46-34e884804cf8"
      },
      "source": [
        "solution = x.value\n",
        "solution = solution.reshape(-1, 1)\n",
        "objective_func(solution), constraint_func(solution)"
      ],
      "execution_count": 16,
      "outputs": [
        {
          "output_type": "execute_result",
          "data": {
            "text/plain": [
              "(92336.24157168562, 10032633.000009798)"
            ]
          },
          "metadata": {
            "tags": []
          },
          "execution_count": 16
        }
      ]
    },
    {
      "cell_type": "markdown",
      "metadata": {
        "id": "wmGEmxQMSuQt"
      },
      "source": [
        "# Reconstruct"
      ]
    },
    {
      "cell_type": "code",
      "metadata": {
        "id": "jABIf9LZS4TI"
      },
      "source": [
        "x = np.matmul(A_inv, solution)"
      ],
      "execution_count": 23,
      "outputs": []
    },
    {
      "cell_type": "code",
      "metadata": {
        "colab": {
          "base_uri": "https://localhost:8080/"
        },
        "id": "4AEibPpeTpgT",
        "outputId": "da3dc837-e951-4a1c-e301-f987fa09cdf3"
      },
      "source": [
        "x.shape"
      ],
      "execution_count": 24,
      "outputs": [
        {
          "output_type": "execute_result",
          "data": {
            "text/plain": [
              "(10000, 1)"
            ]
          },
          "metadata": {
            "tags": []
          },
          "execution_count": 24
        }
      ]
    },
    {
      "cell_type": "code",
      "metadata": {
        "id": "3De-I1gRTqhH"
      },
      "source": [
        "x = x.reshape(100, 100)"
      ],
      "execution_count": 25,
      "outputs": []
    },
    {
      "cell_type": "code",
      "metadata": {
        "id": "VsBzEf52TtcD"
      },
      "source": [
        "from google.colab.patches import cv2_imshow"
      ],
      "execution_count": 26,
      "outputs": []
    },
    {
      "cell_type": "code",
      "metadata": {
        "colab": {
          "base_uri": "https://localhost:8080/",
          "height": 117
        },
        "id": "-xoAL7mGTuUr",
        "outputId": "f72e15ff-f218-4d9c-af5c-c89f3ddac67f"
      },
      "source": [
        "cv2_imshow(x)"
      ],
      "execution_count": 27,
      "outputs": [
        {
          "output_type": "display_data",
          "data": {
            "image/png": "[encoded data removed]",
            "text/plain": [
              "<PIL.Image.Image image mode=L size=100x100 at 0x7F1FD4F270F0>"
            ]
          },
          "metadata": {
            "tags": []
          }
        }
      ]
    },
    {
      "cell_type": "code",
      "metadata": {
        "id": "FQ2rfhgvTxDz"
      },
      "source": [
        "with open('s.npy', 'wb') as f:\n",
        "  np.save(f, solution)"
      ],
      "execution_count": 28,
      "outputs": []
    },
    {
      "cell_type": "code",
      "metadata": {
        "id": "fMgrrarrUSV7"
      },
      "source": [
        ""
      ],
      "execution_count": null,
      "outputs": []
    }
  ]
}